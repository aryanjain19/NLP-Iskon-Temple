{
 "cells": [
  {
   "cell_type": "code",
   "execution_count": 2,
   "source": [
    "from selenium import webdriver\r\n",
    "import pandas as pd\r\n",
    "\r\n",
    "chrome_options = webdriver.ChromeOptions()\r\n",
    "chrome_options.add_argument('--headless')\r\n",
    "chrome_options.add_argument('--no-sandbox')\r\n",
    "chrome_options.add_argument('--disable-dev-shm-usage')\r\n",
    "wd = webdriver.Chrome('chromedriver', chrome_options=chrome_options)\r\n",
    "driver =webdriver.Chrome('chromedriver', chrome_options=chrome_options)"
   ],
   "outputs": [
    {
     "output_type": "stream",
     "name": "stderr",
     "text": [
      "<ipython-input-2-53400acfa536>:8: DeprecationWarning: use options instead of chrome_options\n",
      "  wd = webdriver.Chrome('chromedriver', chrome_options=chrome_options)\n",
      "<ipython-input-2-53400acfa536>:9: DeprecationWarning: use options instead of chrome_options\n",
      "  driver =webdriver.Chrome('chromedriver', chrome_options=chrome_options)\n"
     ]
    }
   ],
   "metadata": {}
  },
  {
   "cell_type": "code",
   "execution_count": 11,
   "source": [
    "wd.get('https://www.tripadvisor.in/Attraction_Review-g297628-d325162-Reviews-ISKCON_Temple_Bangalore-Bengaluru_Bangalore_District_Karnataka.html')\r\n",
    "\r\n",
    "# searchBox=wd.find_elements_by_xpath('//input[@class=\"_3qLQ-U8m\"]')\r\n",
    "# print(searchBox)\r\n",
    "# searchBox.send_keys('ISKCON Temple Bangalore')\r\n",
    "# submitBtn=wd.find_element_by_xpath('//button[@class=\"_3mLX8jwB _2a_Ua4Qv\"]')\r\n",
    "# submitBtn.click()\r\n",
    "\r\n",
    "total_reviews = int(wd.find_element_by_xpath('//div[@class=\"DrjyGw-P _26S7gyB4 _3SccQt-T\"]/div[@class=\"_1NyglzPL\"]').text.split()[-1].replace(\",\",\"\"))\r\n",
    "product_list=[]\r\n",
    "\r\n",
    "\r\n",
    "for i in range(0,total_reviews//10):  # 1st two page # total_reviews//10\r\n",
    "  wd.implicitly_wait(10)\r\n",
    "\r\n",
    "  temp_product_list=wd.find_elements_by_xpath('//div[@class=\"DrjyGw-P _26S7gyB4 _2nPM5Opx\"]/span[@class=\"_2tsgCuqy\"]')\r\n",
    "  for product in temp_product_list:\r\n",
    "    product_list.append(product.text)  \r\n",
    " \r\n",
    "  \r\n",
    "  next_link=wd.find_element_by_xpath('//div[@class=\"_1I73Kb0a\"]/div[@class=\"_3djM0GaD\"]/a')\r\n",
    "  next_link.click()\r\n",
    "  wd.refresh()\r\n",
    "  \r\n",
    "print(len(product_list))"
   ],
   "outputs": [
    {
     "output_type": "stream",
     "name": "stdout",
     "text": [
      "4670\n"
     ]
    }
   ],
   "metadata": {}
  },
  {
   "cell_type": "code",
   "execution_count": 12,
   "source": [
    "df1=pd.DataFrame({'text': product_list})\r\n",
    "df1.to_csv('review_text_tripadvisor.csv',index=True)"
   ],
   "outputs": [],
   "metadata": {}
  },
  {
   "cell_type": "code",
   "execution_count": 8,
   "source": [
    "wd.get('https://www.tripadvisor.in/Attraction_Review-g297628-d325162-Reviews-ISKCON_Temple_Bangalore-Bengaluru_Bangalore_District_Karnataka.html')\r\n",
    "\r\n",
    "ratings=[]\r\n",
    "for i in range(0,total_reviews//10):  # 1st two page # total_reviews//10 \r\n",
    "  wd.implicitly_wait(10)\r\n",
    "\r\n",
    "  stars=wd.find_elements_by_xpath('//div[@class=\"_1c8_1ITO\"]//*[local-name()=\"svg\" and @class=\"zWXXYhVR\"]')\r\n",
    "  for star in stars:\r\n",
    "    text=float(star.get_attribute(\"title\").split()[0])\r\n",
    "    ratings.append(int(text//4))\r\n",
    " \r\n",
    "  wd.refresh()\r\n",
    "  next_link=wd.find_element_by_xpath('//div[@class=\"_1I73Kb0a\"]/div[@class=\"_3djM0GaD\"]/a')\r\n",
    "  next_link.click()\r\n",
    "  wd.refresh()\r\n",
    "\r\n",
    "for i in range(0,10):\r\n",
    "  print(product_list[i])\r\n",
    "  print(\"rating= \",ratings[i])\r\n",
    "  print(\"<-----------------------------------.------------------------------------>\")\r\n",
    "  "
   ],
   "outputs": [
    {
     "output_type": "stream",
     "name": "stdout",
     "text": [
      "Fortunate enough for visiting this temple for second time in life\n",
      "\n",
      "Superb temple, very peaceful in heart of Bangaluru\n",
      "\n",
      "Will surely go again and seek blessings from lord Krishna\n",
      "rating=  1\n",
      "<-----------------------------------.------------------------------------>\n",
      "Have visited before lock down early 2020 and this is a must visit during a tour of Bangalore. Stunning temple and amazing architecture\n",
      "rating=  1\n",
      "<-----------------------------------.------------------------------------>\n",
      "Peaceful place. Gives calmness to one who is interested in Meditation. Not much of traditional Vedic Hymns been recited.\n",
      "rating=  1\n",
      "<-----------------------------------.------------------------------------>\n",
      "Love this place . We have been there for many times . We are in Bangalore from last 10 years . Every year atleast 2-3 times we come there. We love bhog over there.\n",
      "rating=  1\n",
      "<-----------------------------------.------------------------------------>\n",
      "It was a fantastic atmosphere. So.much colour and festivities. The ambience was very serene and joyful.\n",
      "rating=  1\n",
      "<-----------------------------------.------------------------------------>\n",
      "Good place to visit with your family and friends. This temple is a sigh of dedication made to lord Sri Krishna and his glory all over to the world. The chanting and worship done here reminds everyone of lord Krishna and his greatness.\n",
      "rating=  1\n",
      "<-----------------------------------.------------------------------------>\n",
      "We visited yesterday morning to be told that as a foreigner, we were not allowed in. Nowhere does it state this on the Internet. Very disappointed not to be able to see it.\n",
      "rating=  0\n",
      "<-----------------------------------.------------------------------------>\n",
      "good place to visit iskon temole is a must watch it is the most visited tourist spot in bangalore . krishna temple\n",
      "rating=  0\n",
      "<-----------------------------------.------------------------------------>\n",
      "I really approve Iskcon for one thing: I heard they are holding sessions on meditation and guidance at a low cost. As a spiritual person, this attracts me. I got a good review from the attendee of the session and I would love to attend soon.\n",
      "rating=  1\n",
      "<-----------------------------------.------------------------------------>\n",
      "Very peaceful place. Loved the bhajan and arti there. They treat everybody equally. You can also buy stuffs from them at cheaper cost.\n",
      "rating=  1\n",
      "<-----------------------------------.------------------------------------>\n"
     ]
    }
   ],
   "metadata": {}
  },
  {
   "cell_type": "code",
   "execution_count": 9,
   "source": [
    "df2=pd.DataFrame({'sentiment':ratings})\r\n",
    "df2.to_csv('sentiments_trip_advisor.csv',index=True)"
   ],
   "outputs": [],
   "metadata": {}
  },
  {
   "cell_type": "code",
   "execution_count": 13,
   "source": [
    "df = pd.DataFrame({'text': product_list,\r\n",
    "                   'sentiment': ratings})\r\n",
    "df.to_csv('compiled_train_data.csv',index=True)"
   ],
   "outputs": [],
   "metadata": {}
  },
  {
   "cell_type": "code",
   "execution_count": 3,
   "source": [
    "df=pd.read_csv('Compiled_train_data.csv')\r\n",
    "print(len(df))\r\n",
    "df.drop_duplicates(subset='text',keep='first',inplace=True)\r\n",
    "print(len(df))\r\n",
    "df.to_csv('Compiled_train_data.csv')"
   ],
   "outputs": [
    {
     "output_type": "stream",
     "name": "stdout",
     "text": [
      "8193\n",
      "6130\n"
     ]
    }
   ],
   "metadata": {}
  },
  {
   "cell_type": "code",
   "execution_count": null,
   "source": [],
   "outputs": [],
   "metadata": {}
  }
 ],
 "metadata": {
  "orig_nbformat": 4,
  "language_info": {
   "name": "python",
   "version": "3.8.5",
   "mimetype": "text/x-python",
   "codemirror_mode": {
    "name": "ipython",
    "version": 3
   },
   "pygments_lexer": "ipython3",
   "nbconvert_exporter": "python",
   "file_extension": ".py"
  },
  "kernelspec": {
   "name": "python3",
   "display_name": "Python 3.8.5 64-bit ('base': conda)"
  },
  "interpreter": {
   "hash": "c0f70214c0dd213f07f54ee5d6e0ea644bdbba35113c9bfe8aaa0d1db03ad5dd"
  }
 },
 "nbformat": 4,
 "nbformat_minor": 2
}