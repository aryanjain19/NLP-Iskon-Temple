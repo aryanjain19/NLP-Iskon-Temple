{
 "cells": [
  {
   "cell_type": "code",
   "execution_count": 65,
   "metadata": {},
   "outputs": [
    {
     "name": "stderr",
     "output_type": "stream",
     "text": [
      "<ipython-input-65-fdbe5ed007ac>:9: DeprecationWarning: use options instead of chrome_options\n",
      "  wd = webdriver.Chrome('chromedriver', chrome_options=chrome_options)\n",
      "<ipython-input-65-fdbe5ed007ac>:10: DeprecationWarning: use options instead of chrome_options\n",
      "  driver =webdriver.Chrome('chromedriver', chrome_options=chrome_options)\n"
     ]
    }
   ],
   "source": [
    "from selenium import webdriver\n",
    "import pandas as pd\n",
    "import time as time\n",
    "\n",
    "chrome_options = webdriver.ChromeOptions()\n",
    "chrome_options.add_argument('--headless')\n",
    "chrome_options.add_argument('--no-sandbox')\n",
    "chrome_options.add_argument('--disable-dev-shm-usage')\n",
    "wd = webdriver.Chrome('chromedriver', chrome_options=chrome_options)\n",
    "driver =webdriver.Chrome('chromedriver', chrome_options=chrome_options)"
   ]
  },
  {
   "cell_type": "code",
   "execution_count": 9,
   "metadata": {},
   "outputs": [],
   "source": [
    "urls=['https://www.tripadvisor.in/Attraction_Review-g1809484-d12002591-Reviews-Sri_Mayapur_Chandrodaya_Mandir_ISKCON-Mayapur_Haridwar_District_Uttarakhand.html',\n",
    "    'https://www.tripadvisor.in/Attraction_Review-g951350-d2646191-Reviews-ISKCON_Vrindavan-Vrindavan_Mathura_District_Uttar_Pradesh.html',\n",
    "    'https://www.tripadvisor.in/Attraction_Review-g304551-d15581770-Reviews-Iskon_Temple-New_Delhi_National_Capital_Territory_of_Delhi.html',\n",
    "    'https://www.tripadvisor.in/Attraction_Review-g297654-d3838598-Reviews-ISKCON_NVCC_Temple-Pune_Pune_District_Maharashtra.html',\n",
    "    'https://www.tripadvisor.in/Attraction_Review-g297586-d3138645-Reviews-ISKCON_Hyderabad_Sri_Sri_Radha_Madanmohan_Mandir-Hyderabad_Hyderabad_District_Tel.html',\n",
    "    'https://www.tripadvisor.in/Attraction_Review-g644043-d3177750-Reviews-ISKCON_Noida-Noida_Gautam_Buddha_Nagar_District_Uttar_Pradesh.html',\n",
    "    'https://www.tripadvisor.in/Attraction_Review-g297628-d325159-Reviews-Bull_Temple-Bengaluru_Bangalore_District_Karnataka.html',\n",
    "    'https://www.tripadvisor.in/Attraction_Review-g297628-d3187417-Reviews-Dodda_Ganapathi_Temple-Bengaluru_Bangalore_District_Karnataka.html',\n",
    "    'https://www.tripadvisor.in/Attraction_Review-g297628-d1219275-Reviews-Shivoham_Shiva_Temple-Bengaluru_Bangalore_District_Karnataka.html',\n",
    "    'https://www.tripadvisor.in/Attraction_Review-g297628-d2648901-Reviews-Gavi_Gangadhareshwara_Temple-Bengaluru_Bangalore_District_Karnataka.html'\n",
    "    ]"
   ]
  },
  {
   "cell_type": "code",
   "execution_count": null,
   "metadata": {},
   "outputs": [],
   "source": [
    "product_list=[]\n",
    "for url in urls:\n",
    "  wd.get(url)\n",
    "\n",
    "  # searchBox=wd.find_elements_by_xpath('//input[@class=\"_3qLQ-U8m\"]')\n",
    "  # print(searchBox)\n",
    "  # searchBox.send_keys('ISKCON Temple Bangalore')\n",
    "  # submitBtn=wd.find_element_by_xpath('//button[@class=\"_3mLX8jwB _2a_Ua4Qv\"]')\n",
    "  # submitBtn.click()\n",
    "\n",
    "  total_reviews = int(wd.find_element_by_xpath('//div[@class=\"DrjyGw-P _26S7gyB4 _3SccQt-T\"]/div[@class=\"_1NyglzPL\"]').text.split()[-1].replace(\",\",\"\"))\n",
    "  print(total_reviews)\n",
    "  for i in range(0,total_reviews//10): # total_reviews//10\n",
    "    wd.implicitly_wait(10)\n",
    "\n",
    "    temp_product_list=wd.find_elements_by_xpath('//div[@class=\"DrjyGw-P _26S7gyB4 _2nPM5Opx\"]/span[@class=\"_2tsgCuqy\"]')\n",
    "    for product in temp_product_list:\n",
    "      product_list.append(product.text) \n",
    "      print(product.text)\n",
    "      \n",
    "    next_link=wd.find_element_by_xpath('//div[@class=\"_1I73Kb0a\"]/div[@class=\"_3djM0GaD\"]/a')\n",
    "    next_link.click()\n",
    "    wd.refresh()\n",
    "    \n",
    "  print(len(product_list))"
   ]
  },
  {
   "cell_type": "code",
   "execution_count": 5,
   "metadata": {},
   "outputs": [],
   "source": [
    "df1=pd.DataFrame({'text': product_list})\n",
    "df1.to_csv('proxy_review_text_tripadvisor.csv',index=False)"
   ]
  },
  {
   "cell_type": "code",
   "execution_count": null,
   "metadata": {},
   "outputs": [],
   "source": [
    "df1=pd.read_csv('proxy_review_text_tripadvisor.csv')\n",
    "print(len(df1))\n",
    "df1.drop_duplicates(subset='text',keep='first',inplace=True)\n",
    "print(len(df1))"
   ]
  },
  {
   "cell_type": "code",
   "execution_count": 11,
   "metadata": {},
   "outputs": [
    {
     "name": "stdout",
     "output_type": "stream",
     "text": [
      "30\n",
      "680\n",
      "690\n",
      "1480\n",
      "1690\n",
      "1920\n",
      "2650\n",
      "3180\n",
      "3870\n",
      "4120\n",
      "Hare Krishna,\n",
      "\n",
      "The stay was extremely nice and peaceful. All Prabu’s enrolled for guest house services are very humble and kind. The help me extending my stay at a very nominal cost. The rooms are well maintained including Bed and Bathrooms. The best thing noticed was the cleanliness of the building, rooms, surroundings and the entire Shridham Campus. Thousands and thousands of devotees are coming and leaving Sridham daily but the tidiness is not compromised a bit. Really loved my stay at Sri Dham Mayapur. Wish to get back there as soon as possible and try other guest houses as well.\n",
      "rating=  1\n",
      "<-----------------------------------.------------------------------------>\n",
      "Wonderful place. This place is suitable for people of all the ages. This place is very beautiful, quite, peacful and spritual. This temple is one of few famous , popular and spritual destination for pilgrim for devotees , from different parts of the world. Devotees from various country comes to this place. This place is well accessible by road and railways. They well guest house facility for accomodation .\n",
      "rating=  1\n",
      "<-----------------------------------.------------------------------------>\n",
      "Very Scenic , well maintained temple on the banks of Ganga (just a Km. from the temple ) ,this is the INTERNATIONAL Center of ISKCON, Inter national society for krishna consciousness. There is ample and Nice accommodation and Worth visiting. There are Radha madhav, Sri Nrisimha Devji and Chaithanya prabhu Museum inside the CHANDRODAYA mandir.\n",
      "rating=  1\n",
      "<-----------------------------------.------------------------------------>\n",
      "A place where time stops, and you enter a new world,full of peace, joy and happiness.\n",
      "Divine food.You can find yourself here.\n",
      "rating=  1\n",
      "<-----------------------------------.------------------------------------>\n",
      "It is must visit place to get a idea of Bhakti Yoga. The inside campus, the air is so purified that you will feel the difference. Well connected by train and buses. Lots of hotel and cheap accomodation nearby.\n",
      "rating=  1\n",
      "<-----------------------------------.------------------------------------>\n",
      "The scale of everything here is big, specially the under construction TOVP building. Not a surprise though as this is the HQ for ISKCON worldwide. You visit as a devotee or a casual tourist you will love it. The boat ride from Nabadwip Dham to the array of shops and stalls, the main deity darshan, the food. I loved it!\n",
      "rating=  1\n",
      "<-----------------------------------.------------------------------------>\n",
      "Seems Lords own paradise , the arrangements are smooth , room allocation is smooth, Food is aweseom .. Once here you are gifted with peace and happiness\n",
      "rating=  1\n",
      "<-----------------------------------.------------------------------------>\n",
      "I visited whilst on a River Ganges river cruise. This landmark could be seen from a very long way away and certainly looks, from a distance, as a celebration of something, On arriving, we had a very good local guide who introduced us to all of the buildings and the teaching that was in progress. The temples are fantastic - spectacular, but I have an issue over the use of money. There is still more work to do to complete the structures and they are seeking donations of $35,000,000 over a 4 year period to 2022 - $800,000 per month. There is an awful lot of poverty and need in the world that could benefit from this month, and still represent a celebration of faith. Well worth a visit and best to have a guide in order to understand, or have a pilgrimage and stay in the hostels on site (must give at least 60 days notice of making a booking.\n",
      "rating=  1\n",
      "<-----------------------------------.------------------------------------>\n",
      "A peaceful and divine place for everyone. One may go for the whole day pray in peaceful mind. Religion does not the matter here,a place everyone will be the part of lord Krishna. Hare Krishna.\n",
      "rating=  1\n",
      "<-----------------------------------.------------------------------------>\n",
      "Mayapur in west Bengal is the headquarters of International Society of Krishna Consciousness ( ISKCON) popularly known as Hare Krishna. Mayapur is situated on the banks of the Ganges river, 130 KM north of Kolkata and the birthplace of Chaitanya Mahaprbhu; special incarnation of Lord Krishna in the mood of Radha. Millions of pilgrims visit Mayapur from different parts of the world. Big festival called Gaura Purnima is celebrated for a week on the month March every year.\n",
      "rating=  1\n",
      "<-----------------------------------.------------------------------------>\n"
     ]
    }
   ],
   "source": [
    "ratings=[]\n",
    "for url in urls:\n",
    "    wd.get(url)\n",
    "\n",
    "    total_reviews = int(wd.find_element_by_xpath('//div[@class=\"DrjyGw-P _26S7gyB4 _3SccQt-T\"]/div[@class=\"_1NyglzPL\"]').text.split()[-1].replace(\",\",\"\"))\n",
    "    for i in range(0,total_reviews//10):  # 1st two page # total_reviews//10 \n",
    "        wd.implicitly_wait(10)\n",
    "\n",
    "        stars=wd.find_elements_by_xpath('//div[@class=\"_1c8_1ITO\"]//*[local-name()=\"svg\" and @class=\"zWXXYhVR\"]')\n",
    "        for star in stars:\n",
    "            text=float(star.get_attribute(\"title\").split()[0])\n",
    "            ratings.append(int(text//4))\n",
    "        \n",
    "        wd.refresh()\n",
    "        next_link=wd.find_element_by_xpath('//div[@class=\"_1I73Kb0a\"]/div[@class=\"_3djM0GaD\"]/a')\n",
    "        next_link.click()\n",
    "        wd.refresh()\n",
    "    print(len(ratings))\n",
    "\n",
    "for i in range(0,10):\n",
    "    print(product_list[i])\n",
    "    print(\"rating= \",ratings[i])\n",
    "    print(\"<-----------------------------------.------------------------------------>\")\n",
    "  "
   ]
  },
  {
   "cell_type": "code",
   "execution_count": 51,
   "metadata": {},
   "outputs": [],
   "source": [
    "df = pd.DataFrame({'text': product_list,\n",
    "                   'sentiment': ratings})\n",
    "\n",
    "df.to_csv('proxy_trip_advisor_data.csv',index=False)"
   ]
  },
  {
   "cell_type": "code",
   "execution_count": 33,
   "metadata": {},
   "outputs": [
    {
     "name": "stderr",
     "output_type": "stream",
     "text": [
      "<ipython-input-33-02c11b383486>:1: SettingWithCopyWarning: \n",
      "A value is trying to be set on a copy of a slice from a DataFrame\n",
      "\n",
      "See the caveats in the documentation: https://pandas.pydata.org/pandas-docs/stable/user_guide/indexing.html#returning-a-view-versus-a-copy\n",
      "  df2.drop_duplicates(subset='text', keep='first',inplace=True)\n"
     ]
    },
    {
     "data": {
      "text/html": [
       "<div>\n",
       "<style scoped>\n",
       "    .dataframe tbody tr th:only-of-type {\n",
       "        vertical-align: middle;\n",
       "    }\n",
       "\n",
       "    .dataframe tbody tr th {\n",
       "        vertical-align: top;\n",
       "    }\n",
       "\n",
       "    .dataframe thead th {\n",
       "        text-align: right;\n",
       "    }\n",
       "</style>\n",
       "<table border=\"1\" class=\"dataframe\">\n",
       "  <thead>\n",
       "    <tr style=\"text-align: right;\">\n",
       "      <th></th>\n",
       "      <th>text</th>\n",
       "      <th>sentiment</th>\n",
       "    </tr>\n",
       "  </thead>\n",
       "  <tbody>\n",
       "    <tr>\n",
       "      <th>395</th>\n",
       "      <td>overall good experience. one can get bakery it...</td>\n",
       "      <td>0</td>\n",
       "    </tr>\n",
       "    <tr>\n",
       "      <th>687</th>\n",
       "      <td>Interesting temple with lots of facilities: mu...</td>\n",
       "      <td>0</td>\n",
       "    </tr>\n",
       "    <tr>\n",
       "      <th>690</th>\n",
       "      <td>Where do you get free food ?? We have to pay f...</td>\n",
       "      <td>0</td>\n",
       "    </tr>\n",
       "    <tr>\n",
       "      <th>741</th>\n",
       "      <td>There is parking space available but it could ...</td>\n",
       "      <td>0</td>\n",
       "    </tr>\n",
       "    <tr>\n",
       "      <th>752</th>\n",
       "      <td>Very pieceful environment and you will feel go...</td>\n",
       "      <td>0</td>\n",
       "    </tr>\n",
       "    <tr>\n",
       "      <th>766</th>\n",
       "      <td>Iskcon NVC temple, big and beautiful temple, b...</td>\n",
       "      <td>0</td>\n",
       "    </tr>\n",
       "    <tr>\n",
       "      <th>794</th>\n",
       "      <td>ISKCON temple all over India are very well mai...</td>\n",
       "      <td>0</td>\n",
       "    </tr>\n",
       "    <tr>\n",
       "      <th>838</th>\n",
       "      <td>I just visited this place because my friend wa...</td>\n",
       "      <td>0</td>\n",
       "    </tr>\n",
       "    <tr>\n",
       "      <th>1017</th>\n",
       "      <td>This is a part of a chain of ISKCON temples In...</td>\n",
       "      <td>0</td>\n",
       "    </tr>\n",
       "    <tr>\n",
       "      <th>1089</th>\n",
       "      <td>Very nice place to visit. Enjoyed this place a...</td>\n",
       "      <td>0</td>\n",
       "    </tr>\n",
       "  </tbody>\n",
       "</table>\n",
       "</div>"
      ],
      "text/plain": [
       "                                                   text  sentiment\n",
       "395   overall good experience. one can get bakery it...          0\n",
       "687   Interesting temple with lots of facilities: mu...          0\n",
       "690   Where do you get free food ?? We have to pay f...          0\n",
       "741   There is parking space available but it could ...          0\n",
       "752   Very pieceful environment and you will feel go...          0\n",
       "766   Iskcon NVC temple, big and beautiful temple, b...          0\n",
       "794   ISKCON temple all over India are very well mai...          0\n",
       "838   I just visited this place because my friend wa...          0\n",
       "1017  This is a part of a chain of ISKCON temples In...          0\n",
       "1089  Very nice place to visit. Enjoyed this place a...          0"
      ]
     },
     "execution_count": 33,
     "metadata": {},
     "output_type": "execute_result"
    }
   ],
   "source": [
    "df2.drop_duplicates(subset='text', keep='first',inplace=True)\n",
    "df2.head(10)"
   ]
  },
  {
   "cell_type": "code",
   "execution_count": 36,
   "metadata": {},
   "outputs": [],
   "source": [
    "df2.to_csv('proxy_neg_data1.csv')"
   ]
  }
 ],
 "metadata": {
  "interpreter": {
   "hash": "c0f70214c0dd213f07f54ee5d6e0ea644bdbba35113c9bfe8aaa0d1db03ad5dd"
  },
  "kernelspec": {
   "display_name": "Python 3.8.5 64-bit ('base': conda)",
   "name": "python3"
  },
  "language_info": {
   "codemirror_mode": {
    "name": "ipython",
    "version": 3
   },
   "file_extension": ".py",
   "mimetype": "text/x-python",
   "name": "python",
   "nbconvert_exporter": "python",
   "pygments_lexer": "ipython3",
   "version": "3.8.5"
  },
  "orig_nbformat": 4
 },
 "nbformat": 4,
 "nbformat_minor": 2
}
